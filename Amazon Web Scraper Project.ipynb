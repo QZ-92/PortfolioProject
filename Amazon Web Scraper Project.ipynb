{
 "cells": [
  {
   "cell_type": "code",
   "execution_count": 13,
   "id": "f199dbfe",
   "metadata": {},
   "outputs": [],
   "source": [
    "# import libraries\n",
    "\n",
    "from bs4 import BeautifulSoup\n",
    "import requests\n",
    "import smtplib\n",
    "import time\n",
    "import datetime\n"
   ]
  },
  {
   "cell_type": "code",
   "execution_count": 21,
   "id": "89c727fa",
   "metadata": {},
   "outputs": [],
   "source": [
    "# connect to the website\n",
    "\n",
    "URL = 'https://www.amazon.com.au/Lonely-Planet-Australias-Best-Trips/dp/1786574942/ref=sr_1_5?keywords=lonely+planet+australia&qid=1639734954&sprefix=lonely+%2Caps%2C276&sr=8-5'\n",
    "\n",
    "headers = {\"User-Agent\": \"Mozilla/5.0 (Windows NT 10.0; Win64; x64) AppleWebKit/537.36 (KHTML, like Gecko) Chrome/96.0.4664.93 Safari/537.36\"}\n",
    "           \n",
    "page = requests.get(URL, headers=headers)"
   ]
  },
  {
   "cell_type": "code",
   "execution_count": 39,
   "id": "77b36cdd",
   "metadata": {},
   "outputs": [],
   "source": [
    "soup1 = BeautifulSoup(page.content,'html.parser')\n",
    "\n",
    "soup2 = BeautifulSoup(soup1.prettify(), 'html.parser')\n",
    "\n",
    "title = soup2.find(id='productTitle').get_text()\n",
    "\n",
    "price = soup2.find(id='price').get_text()\n",
    "\n",
    "rating = soup2.find(id='acrPopover').get_text()\n",
    "\n",
    "\n",
    "# print(title)\n",
    "# print(price)\n",
    "# print(rating)\n"
   ]
  },
  {
   "cell_type": "code",
   "execution_count": 40,
   "id": "f79fd199",
   "metadata": {},
   "outputs": [
    {
     "name": "stdout",
     "output_type": "stream",
     "text": [
      "Lonely Planet Australia's Best Trips\n",
      "21.89\n",
      "4.6 \n"
     ]
    }
   ],
   "source": [
    "# trim the space and save it to the desired format\n",
    "\n",
    "title = title.strip()\n",
    "price = price.strip()[1:]\n",
    "rating = rating.strip()[:4]\n",
    "\n",
    "print(title)\n",
    "print(price)\n",
    "print(rating)"
   ]
  },
  {
   "cell_type": "code",
   "execution_count": 41,
   "id": "0ce127fe",
   "metadata": {},
   "outputs": [
    {
     "data": {
      "text/plain": [
       "str"
      ]
     },
     "execution_count": 41,
     "metadata": {},
     "output_type": "execute_result"
    }
   ],
   "source": [
    "type(price)"
   ]
  },
  {
   "cell_type": "code",
   "execution_count": 44,
   "id": "6ab8b9c1",
   "metadata": {},
   "outputs": [],
   "source": [
    "# add datetime\n",
    "\n",
    "today = datetime.date.today()"
   ]
  },
  {
   "cell_type": "code",
   "execution_count": 45,
   "id": "0fea695b",
   "metadata": {},
   "outputs": [
    {
     "data": {
      "text/plain": [
       "list"
      ]
     },
     "execution_count": 45,
     "metadata": {},
     "output_type": "execute_result"
    }
   ],
   "source": [
    "import csv\n",
    "\n",
    "header = ['Date','Title', 'Price', 'Rating']\n",
    "data = [today, title, price, rating]\n",
    "\n",
    "type(data)"
   ]
  },
  {
   "cell_type": "code",
   "execution_count": 46,
   "id": "966abda2",
   "metadata": {},
   "outputs": [],
   "source": [
    "# create csv file to store the data\n",
    "\n",
    "# with open('AmaWebScrapData.csv', 'w', newline='', encoding='UTF8') as f:\n",
    "#     writer = csv.writer(f)\n",
    "#     writer.writerow(header)\n",
    "#     writer.writerow(data)"
   ]
  },
  {
   "cell_type": "code",
   "execution_count": 47,
   "id": "6ec16cd7",
   "metadata": {},
   "outputs": [],
   "source": [
    "# suppose we want to check the information regularly, we can write a function\n",
    "\n",
    "def check_info():\n",
    "    \n",
    "    import datetime\n",
    "    import csv\n",
    "    from bs4 import BeautifulSoup\n",
    "    import requests\n",
    "\n",
    "    URL = 'https://www.amazon.com.au/Lonely-Planet-Australias-Best-Trips/dp/1786574942/ref=sr_1_5?keywords=lonely+planet+australia&qid=1639734954&sprefix=lonely+%2Caps%2C276&sr=8-5'\n",
    "\n",
    "    headers = {\"User-Agent\": \"Mozilla/5.0 (Windows NT 10.0; Win64; x64) AppleWebKit/537.36 (KHTML, like Gecko) Chrome/96.0.4664.93 Safari/537.36\"}\n",
    "\n",
    "    page = requests.get(URL, headers=headers)\n",
    "    soup1 = BeautifulSoup(page.content,'html.parser')\n",
    "\n",
    "    soup2 = BeautifulSoup(soup1.prettify(), 'html.parser')\n",
    "\n",
    "    title = soup2.find(id='productTitle').get_text()\n",
    "\n",
    "    price = soup2.find(id='price').get_text()\n",
    "\n",
    "    rating = soup2.find(id='acrPopover').get_text()\n",
    "    title = title.strip()\n",
    "    price = price.strip()[1:]\n",
    "    rating = rating.strip()[:4]\n",
    "    today = datetime.date.today()\n",
    "    \n",
    "    \n",
    "    header = ['Date','Title', 'Price', 'Rating']\n",
    "    data = [today, title, price, rating]\n",
    "\n",
    "    with open('AmaWebScrapData.csv', 'w', newline='', encoding='UTF8') as f:\n",
    "        writer = csv.writer(f)\n",
    "        writer.writerow(header)\n",
    "        writer.writerow(data)"
   ]
  },
  {
   "cell_type": "code",
   "execution_count": null,
   "id": "ccc748a4",
   "metadata": {},
   "outputs": [],
   "source": [
    "# to check the information every day, we can add sleep time\n",
    "\n",
    "while(True):\n",
    "    check_info()\n",
    "    time.sleep(86400)"
   ]
  },
  {
   "cell_type": "code",
   "execution_count": null,
   "id": "9a3d34d0",
   "metadata": {},
   "outputs": [],
   "source": [
    "# This is a demostration of a Python practice. It can be useful in many occasions. For example, you want to buy a new air fryer,\n",
    "# a new coffee table, a book, a watch or anything during Black Friday Sales. \n",
    "# If the current price of your desired item is beyond your budget, you may want to use this function that it checks the price\n",
    "# for you automatically and can send an email to you when the price drops below certain level."
   ]
  },
  {
   "cell_type": "code",
   "execution_count": null,
   "id": "6c9216aa",
   "metadata": {},
   "outputs": [],
   "source": [
    "def send_mail():\n",
    "    server = sntplib.SMTP_SSL('smtp.gmail.com', 465)\n",
    "    server.ehlo()\n",
    "    server.starttls()\n",
    "    server.ehlo()\n",
    "    server.login('youremailhere@gmail.com', 'xxxxxxxxxxxxxxxxxxxx')\n",
    "    \n",
    "    subject = 'The book you want is below $18! Buy it now?'\n",
    "    body = 'Qian, you have wanted this book for a while and now the price has dropped. Check it out now and get yourself one.'\n",
    "    \n",
    "    msg = f'Subject: {subject}\\n\\n{body}'\n",
    "    \n",
    "    server.sendmail('youremailhere@gmail.com', msg)"
   ]
  },
  {
   "cell_type": "code",
   "execution_count": null,
   "id": "22169862",
   "metadata": {},
   "outputs": [],
   "source": []
  },
  {
   "cell_type": "code",
   "execution_count": null,
   "id": "9a7d3d58",
   "metadata": {},
   "outputs": [],
   "source": []
  },
  {
   "cell_type": "code",
   "execution_count": null,
   "id": "35d9a624",
   "metadata": {},
   "outputs": [],
   "source": []
  },
  {
   "cell_type": "code",
   "execution_count": null,
   "id": "cc9af2eb",
   "metadata": {},
   "outputs": [],
   "source": []
  },
  {
   "cell_type": "code",
   "execution_count": null,
   "id": "dc376b0e",
   "metadata": {},
   "outputs": [],
   "source": []
  },
  {
   "cell_type": "code",
   "execution_count": null,
   "id": "97fe987e",
   "metadata": {},
   "outputs": [],
   "source": []
  },
  {
   "cell_type": "code",
   "execution_count": null,
   "id": "e878f15c",
   "metadata": {},
   "outputs": [],
   "source": []
  },
  {
   "cell_type": "code",
   "execution_count": null,
   "id": "17be7d25",
   "metadata": {},
   "outputs": [],
   "source": []
  }
 ],
 "metadata": {
  "kernelspec": {
   "display_name": "Python 3",
   "language": "python",
   "name": "python3"
  },
  "language_info": {
   "codemirror_mode": {
    "name": "ipython",
    "version": 3
   },
   "file_extension": ".py",
   "mimetype": "text/x-python",
   "name": "python",
   "nbconvert_exporter": "python",
   "pygments_lexer": "ipython3",
   "version": "3.8.8"
  }
 },
 "nbformat": 4,
 "nbformat_minor": 5
}
