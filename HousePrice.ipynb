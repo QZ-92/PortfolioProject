{
 "cells": [
  {
   "cell_type": "markdown",
   "id": "2ce87a30",
   "metadata": {},
   "source": [
    "This project is aimed at predicting house price in the test dataset with creative feature engineering and advanced regression techniques such as gradient boosting. The data can be found on Kaggle dataset, House Price - Advanced Regression Techniques. Using 79 features describing (almost) every aspect of residential homes in Ames, Iowa, this project predicts the final price of each home. This project is created with ideas from the awesome Kaggle tutorial of  Feature Engineering by Ryan Holbrook and Alexis Cook."
   ]
  },
  {
   "cell_type": "markdown",
   "id": "7c39f93e",
   "metadata": {},
   "source": [
    "Main steps of this project:\n",
    "1. data preprocessing (clean errors and inconsistency, deal with missing values, encode data types, load the data)\n",
    "2. feature utility metrics to identify the features that have strong association with the target, drop features with low correlation\n",
    "3. create features\n",
    "4. hyperparameters\n",
    "5. train the models"
   ]
  },
  {
   "cell_type": "code",
   "execution_count": 1,
   "id": "171056d6",
   "metadata": {},
   "outputs": [],
   "source": [
    "import os\n",
    "import warnings\n",
    "from pathlib import Path\n",
    "\n",
    "import pandas as pd\n",
    "import numpy as np\n",
    "\n",
    "import seaborn as sns\n",
    "import matplotlib.pyplot as plt\n",
    "%matplotlib inline\n",
    "\n",
    "from IPython.display import display\n",
    "from pandas.api.types import CategoricalDtype\n",
    "\n",
    "from sklearn.model_selection import train_test_split\n",
    "from category_encoders import MEstimateEncoder\n",
    "from sklearn.cluster import KMeans\n",
    "from sklearn.decomposition import PCA\n",
    "from sklearn.feature_selection import mutual_info_regression\n",
    "from sklearn.model_selection import KFold, cross_val_score\n",
    "from xgboost import XGBRegressor\n",
    "from sklearn.preprocessing import LabelEncoder"
   ]
  },
  {
   "cell_type": "code",
   "execution_count": 2,
   "id": "801d5466",
   "metadata": {
    "scrolled": false
   },
   "outputs": [],
   "source": [
    "# # first look of the dataset\n",
    "\n",
    "# df_train = pd.read_csv('house_train.csv', index_col=\"Id\")\n",
    "# df_test = pd.read_csv('house_test.csv', index_col=\"Id\")\n",
    "# df_train.columns\n",
    "# df_train.shape\n",
    "# df_train.head()\n",
    "# df_train.isnull().sum()\n",
    "# df_train.describe()\n",
    "# df_test.info()"
   ]
  },
  {
   "cell_type": "markdown",
   "id": "f1a257bc",
   "metadata": {},
   "source": [
    "Step 1: data preprocessing\n",
    "- clean data (error, inconsistency)\n",
    "- encode data type\n",
    "- deal with missing values if any\n",
    "- load the data and split into training and test set"
   ]
  },
  {
   "cell_type": "code",
   "execution_count": 3,
   "id": "2526e8cf",
   "metadata": {},
   "outputs": [],
   "source": [
    "def load_data():\n",
    "    # Read data\n",
    "    df_train = pd.read_csv('house_train.csv', index_col=\"Id\")\n",
    "    df_test = pd.read_csv('house_test.csv', index_col=\"Id\")\n",
    "\n",
    "    # merge train and test data\n",
    "#     df = pd.concat([df_train, df_test])   \n",
    "    \n",
    "    # preprocessing\n",
    "    for df in [df_train, df_test]:\n",
    "        df = clean(df)\n",
    "        df = encode(df)\n",
    "        df = impute_missing_values(df)\n",
    "    \n",
    "    # split to train and test data\n",
    "#     df_train = df.loc[df_train.index, :]\n",
    "#     df_test = df.loc[df_test.index, :]    \n",
    "         \n",
    "    return df_train, df_test"
   ]
  },
  {
   "cell_type": "code",
   "execution_count": 4,
   "id": "a1acd948",
   "metadata": {},
   "outputs": [],
   "source": [
    "# data clean\n",
    "# check all the unique values of each categorical feature and correct with data description\n",
    "\n",
    "def clean(df):\n",
    "\n",
    "    # In MSzoning, change 'C (all)' to C\n",
    "    df['MSZoning'] = df['MSZoning'].replace({'C (all)':'C'})\n",
    "\n",
    "    # df_full column 'Exterior2nd' replace 'Wd Shng' with 'WdShing', replace 'Brk Cmn' with 'BrkComm'\n",
    "    df['Exterior2nd'] = df['Exterior2nd'].replace({'Wd Shng':'WdShing', 'Brk Cmn':'BrkComm'})\n",
    "\n",
    "    # replace columns names with better ones\n",
    "    df.rename(columns={\n",
    "            \"1stFlrSF\": \"FirstFlrSF\",\n",
    "            \"2ndFlrSF\": \"SecondFlrSF\",\n",
    "            \"3SsnPorch\": \"Threeseasonporch\"}, inplace=True)\n",
    "\n",
    "    # some value of GarageYrBlt is even smaller than YearBuilt, we replace such value of GarageYrBlt with YearBuilt\n",
    "    df['GarageYrBlt'] = df['GarageYrBlt'].where(df.GarageYrBlt < df.YearBuilt, df.YearBuilt)\n",
    "    \n",
    "    return df\n",
    "\n"
   ]
  },
  {
   "cell_type": "markdown",
   "id": "8e5edbae",
   "metadata": {},
   "source": [
    "Encode data type\n",
    "\n",
    "Categorical features: \n",
    "- ordinal: OverallQual, OverallCond, LotShape, Utilities, ExterQual, ExterCond, HeatingQC, KitchenQual, ExterQual, ExterCond, BsmtQual, BsmtCond, BsmtExposure, BsmtFinType1, BsmtFinType2, HeatingQC, GarageFinish, GarageQual, GarageCond, PavedDrive, PoolQC, Fence, Functional, PavedDrive\n",
    "- nominal: MSSubClass, MSZoning, Street, Alley, LandContour, LotConfig, LandSlope, Neighborhood, Condition1, Condition2, BldgType, HouseStyle, RoofStyle, RoofMatl, Exterior1st, Exterior2nd, MasVnrType, Foundation, Heating, CentralAir, Electrical, KitchenQual, Functional, FireplaceQu, GarageType, MiscFeature, SaleType, SaleCondition\n",
    "\n",
    "Numerical features: \n",
    "- discrete: SalePrice, LotArea, YearBuilt, YearRemodAdd, BsmtFinSF1, BsmtFinSF2, BsmtUnfSF, TotalBsmtSF, 1stFlrSF, 2ndFlrSF, GrLivArea, BsmtFullBath, BsmtHalfBath, FullBath, HalfBath, Bedroom, Kitchen, TotRmsAbvGrd, Fireplaces, GarageYrBlt, GarageCars, GarageArea, WoodDeckSF, OpenPorchSF, EnclosedPorch, 3SsnPorch, PoolArea, MiscVal, MoSold, YrSold, \n",
    "- continuous: LotFrontage, MasVnrArea, GarageYrBlt"
   ]
  },
  {
   "cell_type": "markdown",
   "id": "56884cdf",
   "metadata": {},
   "source": [
    "Missing values\n",
    "\n",
    "Ordinal featuers that need to add a 'None' value and change na to 'None':\n",
    "- Utilities, BsmtQual, BsmtCond, BsmtExposure, BsmtFinType1, BsmtFinType2, PoolQC, Fence, GarageFinish, GarageQual, GarageCond \n",
    "\n",
    "Nominal featuers that need to add a 'None' value and change na to 'None':\n",
    "- Alley, Exterior1st, Exterior2nd, Electrical, Functional, FireplaceQu, MiscFeature, GarageType, MasVnrType\n",
    "\n",
    "Numerical featuers that need to replace na with 0:\n",
    "- LotFrontage, MasVnrArea, BsmtFinSF1, BsmtFinSF2, TotalBsmtSF, BsmtFullBath, BsmtHalfBath, GarageCars, GarageArea, GarageYrBlt\n"
   ]
  },
  {
   "cell_type": "code",
   "execution_count": 5,
   "id": "433f3037",
   "metadata": {},
   "outputs": [],
   "source": [
    "# nominal featuers\n",
    "features_nom = [\"MSSubClass\", \"MSZoning\", \"Street\", \"Alley\", \"LandContour\", \"LotConfig\", \"Neighborhood\", \"Condition1\", \"Condition2\", \"BldgType\", \"HouseStyle\", \"RoofStyle\", \"RoofMatl\", \"Exterior1st\", \"Exterior2nd\", \"MasVnrType\", \"Foundation\", \"Heating\", \"CentralAir\", \"GarageType\", \"MiscFeature\", \"SaleType\", \"SaleCondition\"]\n",
    "\n",
    "# ordinal features\n",
    "five_levels = [\"Po\", \"Fa\", \"TA\", \"Gd\", \"Ex\"]\n",
    "ten_levels = list(range(10))\n",
    "\n",
    "ordered_levels = {\n",
    "    \"OverallQual\": ten_levels,\n",
    "    \"OverallCond\": ten_levels,\n",
    "    \"ExterQual\": five_levels,\n",
    "    \"ExterCond\": five_levels,\n",
    "    \"HeatingQC\": five_levels,\n",
    "    \"KitchenQual\": five_levels,\n",
    "    \"FireplaceQu\": five_levels,\n",
    "    \"LotShape\": [\"Reg\", \"IR1\", \"IR2\", \"IR3\"],\n",
    "    \"LandSlope\": [\"Sev\", \"Mod\", \"Gtl\"],\n",
    "    \"Functional\": [\"Sal\", \"Sev\", \"Maj1\", \"Maj2\", \"Mod\", \"Min2\", \"Min1\", \"Typ\"],\n",
    "    \"PavedDrive\": [\"N\", \"P\", \"Y\"],\n",
    "    \"CentralAir\": [\"N\", \"Y\"],\n",
    "    \"Electrical\": [\"Mix\", \"FuseP\", \"FuseF\", \"FuseA\", \"SBrkr\"],\n",
    "    \"Utilities\": [\"NoSeWa\", \"NoSewr\", \"AllPub\"],\n",
    "    \"BsmtQual\": five_levels,\n",
    "    \"BsmtCond\": five_levels,\n",
    "    \"BsmtExposure\": [\"No\", \"Mn\", \"Av\", \"Gd\"],\n",
    "    \"BsmtFinType1\": [\"Unf\", \"LwQ\", \"Rec\", \"BLQ\", \"ALQ\", \"GLQ\"],\n",
    "    \"BsmtFinType2\": [\"Unf\", \"LwQ\", \"Rec\", \"BLQ\", \"ALQ\", \"GLQ\"],    \n",
    "    \"PoolQC\": five_levels,\n",
    "    \"Fence\": [\"MnWw\", \"GdWo\", \"MnPrv\", \"GdPrv\"],\n",
    "    \"GarageFinish\": [\"Unf\", \"RFn\", \"Fin\"],\n",
    "    \"GarageQual\": five_levels,\n",
    "    \"GarageCond\": five_levels\n",
    "}\n",
    "\n",
    "ordered_levels = {key: ['None'] + value for key, value in ordered_levels.items()}\n",
    "\n",
    "\n"
   ]
  },
  {
   "cell_type": "code",
   "execution_count": 6,
   "id": "7b36da6c",
   "metadata": {},
   "outputs": [],
   "source": [
    "# encode data type and create None category for missing values\n",
    "\n",
    "def encode(df):\n",
    "#   nominal features\n",
    "    for feature in features_nom:\n",
    "        df[feature] = df[feature].astype('category')\n",
    "        if 'None' not in df[feature].cat.categories: # and df[feature].isnull().sum()>0:\n",
    "            df[feature].cat.add_categories('None',inplace=True)\n",
    "\n",
    "#   ordinal categories\n",
    "    for name, levels in ordered_levels.items():\n",
    "        df[name] = df[name].astype(CategoricalDtype(levels, ordered=True))\n",
    "    \n",
    "    return df"
   ]
  },
  {
   "cell_type": "markdown",
   "id": "c3d8fa9a",
   "metadata": {},
   "source": [
    "Missing values\n",
    "- replace categorical missing values with 'None'\n",
    "- replace numerical missing values with 0"
   ]
  },
  {
   "cell_type": "code",
   "execution_count": 7,
   "id": "7a05c90a",
   "metadata": {
    "scrolled": true
   },
   "outputs": [],
   "source": [
    "def impute_missing_values(df):\n",
    "    for name in df.select_dtypes('category'):\n",
    "        df[name] = df[name].fillna('None')\n",
    "    \n",
    "    l = df.select_dtypes('number').columns.tolist()\n",
    "    l.pop()\n",
    "    for name in l:\n",
    "        df[name] = df[name].fillna(0)\n",
    "    return df\n"
   ]
  },
  {
   "cell_type": "code",
   "execution_count": 8,
   "id": "0a31f4f9",
   "metadata": {},
   "outputs": [],
   "source": [
    "# load the data\n",
    "# since we replace missing values with 'None' or 0, we can replace the full dataset\n",
    "# if we are using other imputation methods, we may need to impute train and test dataset separately to avoid data leakage\n",
    "\n",
    "df_train, df_test = load_data()"
   ]
  },
  {
   "cell_type": "code",
   "execution_count": 9,
   "id": "f962e37f",
   "metadata": {},
   "outputs": [
    {
     "data": {
      "text/plain": [
       "((1460, 80), (1459, 79))"
      ]
     },
     "execution_count": 9,
     "metadata": {},
     "output_type": "execute_result"
    }
   ],
   "source": [
    "df_train.shape, df_test.shape"
   ]
  },
  {
   "cell_type": "code",
   "execution_count": 10,
   "id": "45111493",
   "metadata": {},
   "outputs": [],
   "source": [
    "# Establish a baseline\n",
    "\n",
    "# using RMSLE as score to evaluate models\n",
    "# the basline is based on gradient boosting model with only encoding categorical featuers\n",
    "\n",
    "def score_model(X, y, model=XGBRegressor()):\n",
    "    try:\n",
    "        for col in X.select_dtypes(['category']):\n",
    "            X[col] = X[col].cat.codes\n",
    "        log_y = np.log(y)\n",
    "        score = cross_val_score(model, X, log_y, cv=5, scoring='neg_mean_absolute_error')\n",
    "        score = -1 * score.mean()\n",
    "        score = np.sqrt(score)\n",
    "        return score\n",
    "    \n",
    "    except Exception as e:\n",
    "            print('Error occured '+str(e))"
   ]
  },
  {
   "cell_type": "code",
   "execution_count": 11,
   "id": "3f0b4864",
   "metadata": {},
   "outputs": [
    {
     "data": {
      "image/png": "[encoded data removed]",
      "text/plain": [
       "<Figure size 432x288 with 1 Axes>"
      ]
     },
     "metadata": {
      "needs_background": "light"
     },
     "output_type": "display_data"
    }
   ],
   "source": [
    "X = df_train.copy()\n",
    "X['log_price'] = np.log1p(X['SalePrice'])\n",
    "sns.scatterplot(data=X, y='log_price', x='GrLivArea');"
   ]
  },
  {
   "cell_type": "code",
   "execution_count": 12,
   "id": "c579dfbb",
   "metadata": {},
   "outputs": [
    {
     "name": "stdout",
     "output_type": "stream",
     "text": [
      "Baseline score: 0.31105 RMSLE\n"
     ]
    }
   ],
   "source": [
    "X = df_train.copy()\n",
    "y = X.pop('SalePrice')\n",
    "baseline_score = score_model(X,y)\n",
    "print(f'Baseline score: {baseline_score:.5f} RMSLE')"
   ]
  },
  {
   "cell_type": "markdown",
   "id": "fa8d1ffa",
   "metadata": {},
   "source": [
    "2. Feature Utility Scores\n",
    "- We are using a utility score to select the features that are highly related to our target (SalesPrice) and drop the features that have zero correlation with the target. There is limitation in this method as the utility score is based on linear relationship and we may get into trouble of accidentally dropping the features that have low linear correlation with the target but strong nonlinear relationship."
   ]
  },
  {
   "cell_type": "code",
   "execution_count": 13,
   "id": "0d48dc6d",
   "metadata": {},
   "outputs": [],
   "source": [
    "def make_mi_scores(X,y):\n",
    "    try:\n",
    "        X = X.copy()\n",
    "\n",
    "        # label encoding categorical features and treat them as discrete\n",
    "        for colname in X.select_dtypes(['category','object']):\n",
    "            X[colname], _ = X[colname].factorize()\n",
    "\n",
    "        # all discrete features should have integer dtype\n",
    "        discrete_features = [pd.api.types.is_integer_dtype(t) for t in X.dtypes]\n",
    "\n",
    "        # calcuate MI scores for all features, arrange and sort\n",
    "        mi_scores = mutual_info_regression(X, y, discrete_features = discrete_features, random_state=0)\n",
    "        mi_scores = pd.Series(mi_scores, name='MI Scores', index=X.columns)\n",
    "        mi_scores = mi_scores.sort_values(ascending=False)\n",
    "\n",
    "        return mi_scores\n",
    "\n",
    "    except Exception as e:\n",
    "            print('Error occured '+str(e))"
   ]
  },
  {
   "cell_type": "code",
   "execution_count": 15,
   "id": "d5410772",
   "metadata": {},
   "outputs": [],
   "source": [
    "pd.set_option('display.max_rows', None)"
   ]
  },
  {
   "cell_type": "code",
   "execution_count": 16,
   "id": "eabfc64f",
   "metadata": {
    "scrolled": true
   },
   "outputs": [
    {
     "data": {
      "text/plain": [
       "OverallQual         5.786503e-01\n",
       "Neighborhood        5.253900e-01\n",
       "GarageArea          4.927946e-01\n",
       "GrLivArea           4.328080e-01\n",
       "YearBuilt           4.087151e-01\n",
       "TotalBsmtSF         3.995179e-01\n",
       "LotArea             3.924269e-01\n",
       "GarageYrBlt         3.631249e-01\n",
       "GarageCars          3.601015e-01\n",
       "BsmtQual            3.313983e-01\n",
       "ExterQual           3.251496e-01\n",
       "KitchenQual         3.224720e-01\n",
       "FirstFlrSF          2.832649e-01\n",
       "MSSubClass          2.781834e-01\n",
       "YearRemodAdd        2.756588e-01\n",
       "FullBath            2.731560e-01\n",
       "GarageFinish        2.629453e-01\n",
       "LotFrontage         2.160922e-01\n",
       "FireplaceQu         2.093477e-01\n",
       "TotRmsAbvGrd        2.079625e-01\n",
       "GarageType          2.019024e-01\n",
       "Foundation          1.929394e-01\n",
       "OpenPorchSF         1.890468e-01\n",
       "HeatingQC           1.735858e-01\n",
       "Fireplaces          1.702530e-01\n",
       "SecondFlrSF         1.678137e-01\n",
       "BsmtFinSF1          1.566927e-01\n",
       "BsmtFinType1        1.566483e-01\n",
       "Exterior2nd         1.550760e-01\n",
       "BsmtUnfSF           1.273479e-01\n",
       "Exterior1st         1.262990e-01\n",
       "MSZoning            1.212281e-01\n",
       "OverallCond         1.096556e-01\n",
       "WoodDeckSF          1.032598e-01\n",
       "MasVnrType          9.680048e-02\n",
       "MasVnrArea          9.330231e-02\n",
       "HalfBath            8.845618e-02\n",
       "LotShape            8.240987e-02\n",
       "GarageCond          8.120098e-02\n",
       "SaleType            7.933700e-02\n",
       "HouseStyle          7.640228e-02\n",
       "SaleCondition       7.505748e-02\n",
       "BsmtExposure        7.480777e-02\n",
       "GarageQual          7.322735e-02\n",
       "BedroomAbvGr        6.848434e-02\n",
       "CentralAir          6.632962e-02\n",
       "BsmtCond            5.230850e-02\n",
       "PavedDrive          4.683641e-02\n",
       "Fence               4.597277e-02\n",
       "Electrical          4.468958e-02\n",
       "BldgType            4.107627e-02\n",
       "BsmtFinType2        3.578983e-02\n",
       "Condition1          3.051498e-02\n",
       "LandContour         2.823413e-02\n",
       "Alley               2.642447e-02\n",
       "KitchenAbvGr        2.375965e-02\n",
       "ScreenPorch         2.118128e-02\n",
       "EnclosedPorch       2.082925e-02\n",
       "RoofStyle           2.033682e-02\n",
       "ExterCond           1.845965e-02\n",
       "LotConfig           1.593551e-02\n",
       "BsmtFullBath        1.318343e-02\n",
       "Heating             1.287198e-02\n",
       "BsmtHalfBath        1.131273e-02\n",
       "Functional          1.084641e-02\n",
       "LowQualFinSF        6.635548e-03\n",
       "RoofMatl            4.894636e-03\n",
       "LandSlope           4.280622e-03\n",
       "YrSold              3.618707e-03\n",
       "BsmtFinSF2          2.734002e-03\n",
       "MiscFeature         2.703237e-03\n",
       "Condition2          2.664787e-03\n",
       "Threeseasonporch    7.615664e-04\n",
       "Street              3.666896e-04\n",
       "Utilities           1.887379e-15\n",
       "PoolArea            2.220446e-16\n",
       "PoolQC              0.000000e+00\n",
       "MiscVal             0.000000e+00\n",
       "MoSold              0.000000e+00\n",
       "Name: MI Scores, dtype: float64"
      ]
     },
     "execution_count": 16,
     "metadata": {},
     "output_type": "execute_result"
    }
   ],
   "source": [
    "X = df_train.copy()\n",
    "y = X.pop('SalePrice')\n",
    "\n",
    "mi_scores = make_mi_scores(X, y)\n",
    "mi_scores"
   ]
  },
  {
   "cell_type": "code",
   "execution_count": 17,
   "id": "3294559a",
   "metadata": {},
   "outputs": [],
   "source": [
    "def drop_uninformative(df, mi_scores):\n",
    "    try:\n",
    "        return df.loc[:,mi_scores > 0.00036]\n",
    "    except Exception as e:\n",
    "        print('Error occured: '+str(e))"
   ]
  },
  {
   "cell_type": "code",
   "execution_count": 18,
   "id": "32a93206",
   "metadata": {},
   "outputs": [
    {
     "data": {
      "text/plain": [
       "0.30949027514597593"
      ]
     },
     "execution_count": 18,
     "metadata": {},
     "output_type": "execute_result"
    }
   ],
   "source": [
    "X = df_train.copy()\n",
    "y = X.pop('SalePrice')\n",
    "X = drop_uninformative(X, mi_scores)\n",
    "\n",
    "score_model(X,y)\n",
    "# Lower values of RMSE indicate better fit after dropping some features"
   ]
  },
  {
   "cell_type": "markdown",
   "id": "2d97b8fb",
   "metadata": {},
   "source": [
    "3. Create features\n",
    "There are a few steps to create features. \n",
    "- step 1: label encoding for categorical features: \n",
    "    - for every categorical feature, it will assign a number to each category\n",
    "    - it works for tree-ensemble methods\n",
    "    - but better use one-hot encoding if using linera regression, especially for features with unordered categories (this will generate a dummy variable for each category of every categorical feature)\n",
    "    \n",
    "- step 2: create features with Pandas using mathemmatical transformation\n",
    "- step 3: K-means clustering (unsupervised)\n",
    "    - we pick the features to be used for clustering, rescale the features if they are not already comparable, and generate a \"cluster\" category for each sample\n",
    "- step 4: PCA (unsupervised)\n",
    "    - we use PCA to find potential relationships in the data\n",
    "    - it doesn't create any new features on its own, but it suggests features\n",
    "    - apply pca, add new features, spot outliers\n",
    "- (potential) step 5: target encoding"
   ]
  },
  {
   "cell_type": "code",
   "execution_count": 19,
   "id": "2840fd56",
   "metadata": {},
   "outputs": [],
   "source": [
    "# 3. Create features\n",
    "# step 1: label encoding for categorical features\n",
    "\n",
    "# def label_encoding(df):\n",
    "#     try:\n",
    "#         X = df.copy()\n",
    "#         for col in X.select_dtypes(['category']):\n",
    "#             X[col] = X[col].cat.codes\n",
    "#         return X\n",
    "#     except Exception as e:\n",
    "#         print(\"Error occurred: \"+str(e))"
   ]
  },
  {
   "cell_type": "code",
   "execution_count": 20,
   "id": "09f7f19a",
   "metadata": {},
   "outputs": [],
   "source": [
    "def label_encoding_new(df):\n",
    "    try:\n",
    "        X = df.copy()\n",
    "        for col in X.select_dtypes(['category']):\n",
    "            X[col] = X[col].astype('str')\n",
    "        X = X.apply(LabelEncoder().fit_transform)\n",
    "        \n",
    "        return X\n",
    "    except Exception as e:\n",
    "        print(\"Error occurred: \"+str(e))"
   ]
  },
  {
   "cell_type": "code",
   "execution_count": 21,
   "id": "8bfef970",
   "metadata": {},
   "outputs": [],
   "source": [
    "# 3. Create features\n",
    "# step 2: create features with Pandas using mathemmatical transformation\n",
    "\n",
    "def math_new_features(df):\n",
    "    try:\n",
    "        X = pd.DataFrame()\n",
    "        X['LivLotRatio'] = df.GrLivArea / df.LotArea\n",
    "        X['Spaciousness'] = (df.FirstFlrSF + df.SecondFlrSF) / df.TotRmsAbvGrd\n",
    "        X['TotalOutdoorSF'] = df.WoodDeckSF + df.OpenPorchSF + df.EnclosedPorch + df.Threeseasonporch + df.ScreenPorch\n",
    "        return X\n",
    "    \n",
    "    except Exception as e:\n",
    "        print(\"Error occurred: \"+str(e))"
   ]
  },
  {
   "cell_type": "code",
   "execution_count": 22,
   "id": "0597d94b",
   "metadata": {},
   "outputs": [],
   "source": [
    "def add_interactions(df):\n",
    "    try:\n",
    "        X = pd.DataFrame()\n",
    "        X = pd.get_dummies(df.BldgType, prefix='Bldg')\n",
    "        X = X.mul(df.GrLivArea, axis=0)\n",
    "        \n",
    "        # create interactions between OverallQual and OverallCond\n",
    "#         X['Qual'] = int(df.OverallQual)\n",
    "#         X['Cond'] = int(df.OverallCond)\n",
    "#         X['QualCond'] = X['Qual'].mul(X.Cond, axis=0)\n",
    "        return X\n",
    "    \n",
    "    except Exception as e:\n",
    "        print(\"Error occurred: \"+str(e))"
   ]
  },
  {
   "cell_type": "code",
   "execution_count": 23,
   "id": "9ee071a9",
   "metadata": {},
   "outputs": [],
   "source": [
    "def counts(df):\n",
    "    # add how many types of porch the property has\n",
    "    # gt(0.0) the value is greater than 0\n",
    "    try:\n",
    "        X = pd.DataFrame()\n",
    "        X[\"PorchTypes\"] = df[[\"WoodDeckSF\", \"OpenPorchSF\", \"EnclosedPorch\", \"Threeseasonporch\", \"ScreenPorch\"]].gt(0.0).sum(axis=1)\n",
    "        return X\n",
    "    \n",
    "    except Exception as e:\n",
    "        print(\"Error occurred: \"+str(e))"
   ]
  },
  {
   "cell_type": "code",
   "execution_count": 24,
   "id": "7c319b6a",
   "metadata": {},
   "outputs": [],
   "source": [
    "def group_transform(df):\n",
    "    try:\n",
    "        X = pd.DataFrame()\n",
    "        X['MedNbArea'] = df.groupby('Neighborhood')['GrLivArea'].transform(\"median\")\n",
    "        X['CntNbArea'] = df.groupby('Neighborhood')['GrLivArea'].transform(\"count\")\n",
    "        return X\n",
    "    except Exception as e:\n",
    "        print(\"Error occurred: \"+str())"
   ]
  },
  {
   "cell_type": "code",
   "execution_count": 25,
   "id": "c56eded8",
   "metadata": {},
   "outputs": [],
   "source": [
    "# 3. Create features\n",
    "# step 3: K-means clustering (unsupervised)\n",
    "\n",
    "cluster_features = [\n",
    "    \"LotArea\",\n",
    "    \"TotalBsmtSF\",\n",
    "    \"FirstFlrSF\",\n",
    "    \"SecondFlrSF\",\n",
    "    \"GrLivArea\"\n",
    "]\n",
    "\n",
    "def cluster_labels(df, cluster_features, n_clusters=10):\n",
    "    try:\n",
    "        X = df.copy()\n",
    "        X_scaled = X.loc[:, cluster_features]\n",
    "        X_scaled = (X_scaled - X_scaled.mean(axis=0)) / X_scaled.std(axis=0)\n",
    "        \n",
    "        kmeans = KMeans(n_clusters=n_clusters, n_init=50, random_state=0)\n",
    "        X_new = pd.DataFrame()\n",
    "        X_new['Cluster'] = kmeans.fit_predict(X_scaled)\n",
    "        X_new['Cluster'] = X_new['Cluster'].astype('category')\n",
    "        \n",
    "        return X_new\n",
    "    except Exception as e:\n",
    "        print(\"Error Occurred: \"+str(e))"
   ]
  },
  {
   "cell_type": "code",
   "execution_count": 26,
   "id": "a73917f8",
   "metadata": {
    "scrolled": true
   },
   "outputs": [
    {
     "data": {
      "image/png": "[encoded data removed]",
      "text/plain": [
       "<Figure size 432x432 with 1 Axes>"
      ]
     },
     "metadata": {
      "needs_background": "light"
     },
     "output_type": "display_data"
    }
   ],
   "source": [
    "# visualise the house price distribution of each cluster\n",
    "X_new = cluster_labels(df_train, cluster_features)\n",
    "X_new['Price'] = df_train['SalePrice']\n",
    "\n",
    "sns.catplot(x=\"Price\", y=\"Cluster\", data=X_new, kind=\"boxen\", height=6);"
   ]
  },
  {
   "cell_type": "code",
   "execution_count": 27,
   "id": "2c8f1895",
   "metadata": {},
   "outputs": [],
   "source": [
    "# 3. Create features\n",
    "# step 4: PCA (unsupervised) only works for numeric features\n",
    "\n",
    "def apply_pca(X, standardize=True):\n",
    "    try:\n",
    "        # Standardize\n",
    "        if standardize:\n",
    "            X = (X - X.mean(axis=0)) / X.std(axis=0)\n",
    "        # Create principal components\n",
    "        pca = PCA()\n",
    "        X_pca = pca.fit_transform(X)\n",
    "        # Convert to dataframe\n",
    "        component_names = [f\"PC{i+1}\" for i in range(X_pca.shape[1])]\n",
    "        X_pca = pd.DataFrame(X_pca, columns=component_names)\n",
    "        # Create loadings\n",
    "        # (tells us in each component, which features vary in the same direction)\n",
    "        # the negative loading may tell us the meaning of the component or how we call the component\n",
    "\n",
    "        loadings = pd.DataFrame(\n",
    "            pca.components_.T,  # transpose the matrix of loadings\n",
    "            columns=component_names,  # so the columns are the principal components\n",
    "            index=X.columns,  # and the rows are the original features\n",
    "        )\n",
    "        return pca, X_pca, loadings\n",
    "    \n",
    "    except Exception as e:\n",
    "        print(\"Error Occurred: \"+str(e)) "
   ]
  },
  {
   "cell_type": "code",
   "execution_count": 29,
   "id": "2169ad84",
   "metadata": {},
   "outputs": [],
   "source": [
    "plt.style.use(\"seaborn-whitegrid\")\n",
    "plt.rc(\"figure\", autolayout=True)\n",
    "plt.rc(\n",
    "    \"axes\",\n",
    "    labelweight=\"bold\",\n",
    "    labelsize=\"large\",\n",
    "    titleweight=\"bold\",\n",
    "    titlesize=14,\n",
    "    titlepad=10,\n",
    ")\n",
    "\n",
    "\n",
    "def plot_variance(pca, width=8, dpi=100):\n",
    "    try:\n",
    "        # Create figure\n",
    "        fig, axs = plt.subplots(1, 2)\n",
    "        n = pca.n_components_\n",
    "        grid = np.arange(1, n + 1)\n",
    "        # Explained variance\n",
    "        evr = pca.explained_variance_ratio_\n",
    "        axs[0].bar(grid, evr)\n",
    "        axs[0].set(\n",
    "            xlabel=\"Component\", title=\"% Explained Variance\", ylim=(0.0, 1.0)\n",
    "        )\n",
    "        # Cumulative Variance\n",
    "        cv = np.cumsum(evr)\n",
    "        axs[1].plot(np.r_[0, grid], np.r_[0, cv], \"o-\")\n",
    "        axs[1].set(\n",
    "            xlabel=\"Component\", title=\"% Cumulative Variance\", ylim=(0.0, 1.0)\n",
    "        )\n",
    "        # Set up figure\n",
    "        fig.set(figwidth=8, dpi=100)\n",
    "        return axs\n",
    "    except Exception as e:\n",
    "        print(\"Error Occurred: \"+str(e))\n",
    "\n",
    "def make_mi_scores_pca(X, y, discrete_features):\n",
    "    try:\n",
    "        mi_scores = mutual_info_regression(X, y, discrete_features=discrete_features)\n",
    "        mi_scores = pd.Series(mi_scores, name=\"MI Scores\", index=X.columns)\n",
    "        mi_scores = mi_scores.sort_values(ascending=False)\n",
    "        return mi_scores\n",
    "    except Exception as e:\n",
    "        print(\"Error Occurred: \"+str(e)) \n"
   ]
  },
  {
   "cell_type": "code",
   "execution_count": 30,
   "id": "168e8d40",
   "metadata": {},
   "outputs": [
    {
     "name": "stdout",
     "output_type": "stream",
     "text": [
      "Correlation with SalePrice:\n",
      "\n",
      "LotFrontage     0.209624\n",
      "LotArea         0.263843\n",
      "MasVnrArea      0.472614\n",
      "TotalBsmtSF     0.613581\n",
      "FirstFlrSF      0.605852\n",
      "SecondFlrSF     0.319334\n",
      "GrLivArea       0.708624\n",
      "FullBath        0.560664\n",
      "HalfBath        0.284108\n",
      "BedroomAbvGr    0.168213\n",
      "TotRmsAbvGrd    0.533723\n",
      "GarageArea      0.623431\n",
      "dtype: float64\n"
     ]
    }
   ],
   "source": [
    "# select the numeric features for PCA\n",
    "features = ['LotFrontage',\n",
    " 'LotArea',\n",
    " 'MasVnrArea',\n",
    " 'TotalBsmtSF',\n",
    " 'FirstFlrSF',\n",
    " 'SecondFlrSF',\n",
    " 'GrLivArea',\n",
    " 'FullBath',\n",
    " 'HalfBath',\n",
    " 'BedroomAbvGr',\n",
    " 'TotRmsAbvGrd',\n",
    " 'GarageArea']\n",
    "\n",
    "print(\"Correlation with SalePrice:\\n\")\n",
    "print(df_train[features].corrwith(df_train.SalePrice))"
   ]
  },
  {
   "cell_type": "code",
   "execution_count": 31,
   "id": "c791ed44",
   "metadata": {
    "scrolled": true
   },
   "outputs": [
    {
     "name": "stdout",
     "output_type": "stream",
     "text": [
      "                   PC1       PC2       PC3       PC4       PC5       PC6  \\\n",
      "LotFrontage   0.147963  0.135361  0.360384 -0.644161  0.610672 -0.044321   \n",
      "LotArea       0.154878  0.152481  0.256209  0.749756  0.501724 -0.021630   \n",
      "MasVnrArea    0.238551  0.118552 -0.506817 -0.081393  0.090152  0.700554   \n",
      "TotalBsmtSF   0.268571  0.452262 -0.053387  0.012997 -0.057340  0.044454   \n",
      "FirstFlrSF    0.297046  0.448626  0.075987  0.041578 -0.145044  0.058452   \n",
      "SecondFlrSF   0.270314 -0.493672 -0.076361  0.016393  0.082032 -0.109168   \n",
      "GrLivArea     0.445427 -0.084930  0.006120  0.042490 -0.040381 -0.045072   \n",
      "FullBath      0.335859 -0.023369  0.026757 -0.039448 -0.394623 -0.333761   \n",
      "HalfBath      0.185667 -0.367147 -0.425135  0.050811  0.362826 -0.089874   \n",
      "BedroomAbvGr  0.271799 -0.273691  0.442928 -0.010424 -0.167502  0.348950   \n",
      "TotRmsAbvGrd  0.402861 -0.169220  0.206666 -0.022410 -0.115247  0.090929   \n",
      "GarageArea    0.286227  0.220809 -0.335816 -0.087046  0.076360 -0.487793   \n",
      "\n",
      "                   PC7       PC8       PC9      PC10      PC11      PC12  \n",
      "LotFrontage   0.135752 -0.135187 -0.050109  0.019383  0.022025 -0.001991  \n",
      "LotArea       0.257696 -0.015610 -0.061123  0.025501 -0.041847  0.001213  \n",
      "MasVnrArea    0.405912  0.006585  0.000620  0.042250 -0.005504  0.004844  \n",
      "TotalBsmtSF  -0.357361 -0.172775 -0.184940 -0.604704 -0.396998  0.003233  \n",
      "FirstFlrSF   -0.294355 -0.098565  0.103560  0.352974  0.448602 -0.495603  \n",
      "SecondFlrSF   0.118816 -0.122432  0.334337 -0.444192  0.069804 -0.561609  \n",
      "GrLivArea    -0.123186 -0.176576  0.376502 -0.107793  0.387858  0.662356  \n",
      "FullBath      0.492366 -0.397206 -0.447938  0.123293 -0.034091  0.006984  \n",
      "HalfBath     -0.471006 -0.138700 -0.451050  0.250657  0.016442  0.007716  \n",
      "BedroomAbvGr -0.079698  0.476108 -0.441617 -0.176357  0.214342  0.001150  \n",
      "TotRmsAbvGrd -0.121205  0.097303  0.309073  0.434067 -0.660399 -0.008863  \n",
      "GarageArea    0.146434  0.694655  0.025388 -0.021443  0.008590  0.005447  \n"
     ]
    }
   ],
   "source": [
    "# select the numeric features for PCA\n",
    "X = df_train.copy()\n",
    "y = X.pop(\"SalePrice\")\n",
    "X = X.loc[:, features]\n",
    "\n",
    "pca, X_pca, loadings = apply_pca(X)\n",
    "print(loadings)"
   ]
  },
  {
   "cell_type": "code",
   "execution_count": 32,
   "id": "cd20a78f",
   "metadata": {
    "scrolled": true
   },
   "outputs": [
    {
     "data": {
      "image/png": "[encoded data removed]",
      "text/plain": [
       "<Figure size 800x400 with 2 Axes>"
      ]
     },
     "metadata": {},
     "output_type": "display_data"
    }
   ],
   "source": [
    "plot_variance(pca);"
   ]
  },
  {
   "cell_type": "code",
   "execution_count": 33,
   "id": "c53aaaed",
   "metadata": {},
   "outputs": [
    {
     "data": {
      "text/plain": [
       "PC1     0.563381\n",
       "PC2     0.346878\n",
       "PC9     0.145482\n",
       "PC4     0.104353\n",
       "PC3     0.104300\n",
       "PC8     0.089958\n",
       "PC6     0.080677\n",
       "PC5     0.063555\n",
       "PC12    0.050965\n",
       "PC7     0.040403\n",
       "PC10    0.022606\n",
       "PC11    0.021178\n",
       "Name: MI Scores, dtype: float64"
      ]
     },
     "execution_count": 33,
     "metadata": {},
     "output_type": "execute_result"
    }
   ],
   "source": [
    "# identify the most useful PCs\n",
    "X = df_train.copy()\n",
    "y = X.pop('SalePrice')\n",
    "mi_scores = make_mi_scores_pca(X_pca, y, discrete_features=False)\n",
    "mi_scores"
   ]
  },
  {
   "cell_type": "code",
   "execution_count": 34,
   "id": "11194355",
   "metadata": {},
   "outputs": [],
   "source": [
    "# bedroom/bathroom number ratio; secondFlrSF/FirstFlrSF\n",
    "# create new features\n",
    "\n",
    "def pca_features(df):\n",
    "    try:\n",
    "        X = pd.DataFrame()\n",
    "        X['BdBrRatio'] = df['BedroomAbvGr'] / (df['FullBath'] + df['HalfBath'] + 1)\n",
    "        X['BowlShapeness'] = df['SecondFlrSF'] / df['FirstFlrSF']\n",
    "        X['TotalArea'] = df['GrLivArea'] +df['TotalBsmtSF'] +df['GarageArea']\n",
    "        return X\n",
    "    \n",
    "    except Exception as e:\n",
    "        print('Error occurred: '+str(e))"
   ]
  },
  {
   "cell_type": "code",
   "execution_count": 35,
   "id": "e6d7047f",
   "metadata": {},
   "outputs": [
    {
     "data": {
      "image/png": "[encoded data removed]",
      "text/plain": [
       "<Figure size 720x2160 with 12 Axes>"
      ]
     },
     "metadata": {},
     "output_type": "display_data"
    }
   ],
   "source": [
    "# spot outliers\n",
    "\n",
    "sns.catplot(\n",
    "    y=\"value\",\n",
    "    col=\"variable\",\n",
    "    data=X_pca.melt(),\n",
    "    kind='boxen',\n",
    "    sharey=False,\n",
    "    col_wrap=2,\n",
    ");"
   ]
  },
  {
   "cell_type": "code",
   "execution_count": 36,
   "id": "8ef4c8c6",
   "metadata": {},
   "outputs": [],
   "source": [
    "# # indicate the outliers\n",
    "# component = \"PC1\"\n",
    "\n",
    "# idx = X_pca[component].sort_values(ascending=False).index\n",
    "# X.loc[idx, [\"SalePrice\", \"Neighborhood\", \"SaleCondition\"]+ features]\n",
    "\n",
    "# def indicate_outliers(df):\n",
    "#     X_new = pd.DataFrame()\n",
    "#     X_new[\"Outlier\"] = (df.Neighborhood == \"Edwards\") & (df.SaleCondition == \"Partial\")\n",
    "#     return X_new"
   ]
  },
  {
   "cell_type": "markdown",
   "id": "a6e43fd2",
   "metadata": {},
   "source": [
    "3. Create features\n",
    "- potential step 5: target encoding (supervised)\n",
    "    - encode a feature (such as MSSubClass) with the mean of the target (SalePrice)\n",
    "    - split the data for cross validation so that no data is wasted"
   ]
  },
  {
   "cell_type": "code",
   "execution_count": 37,
   "id": "5c126804",
   "metadata": {},
   "outputs": [],
   "source": [
    "# 3. Create features\n",
    "# combine create features functions\n",
    "\n",
    "def create_features(df_train, df_test=None):\n",
    "    try:\n",
    "        X = df_train.copy()\n",
    "        y = X.pop('SalePrice')     \n",
    "        mi_scores = make_mi_scores(X,y)\n",
    "        \n",
    "        if df_test is not None:\n",
    "            X_test = df_test.copy()\n",
    "            X = pd.concat([X, X_test])\n",
    "        \n",
    "        X = drop_uninformative(X, mi_scores) \n",
    "        X = X.join(math_new_features(X))\n",
    "        X = X.join(add_interactions(X))\n",
    "        X = X.join(counts(X))\n",
    "        \n",
    "        if df_test is not None:\n",
    "            X_test = X.loc[df_test.index, :]\n",
    "            X.drop(df_test.index, inplace=True)\n",
    "            X_test = X_test.join(group_transform(X_test))\n",
    "            X_test = X_test.join(cluster_labels(X_test, cluster_features, n_clusters=15))\n",
    "            X_test = X_test.join(pca_features(X_test))\n",
    "            X_test = label_encoding_new(X_test)\n",
    "            \n",
    "        X = X.join(group_transform(X))\n",
    "        X = X.join(cluster_labels(X, cluster_features, n_clusters=15))\n",
    "        X = X.join(pca_features(X))        \n",
    "        X = label_encoding_new(X)\n",
    "        \n",
    "        if df_test is not None:\n",
    "            return X, X_test\n",
    "        else:\n",
    "            return X\n",
    "    \n",
    "    except Exception as e:\n",
    "        print(\"Error occurred: \"+str(e))"
   ]
  },
  {
   "cell_type": "code",
   "execution_count": 38,
   "id": "ae7ae6e9",
   "metadata": {
    "scrolled": true
   },
   "outputs": [
    {
     "name": "stdout",
     "output_type": "stream",
     "text": [
      "After data cleaning score: 0.30970 RMSLE. \n",
      "Baseline score is 0.31105 RMSLE\n"
     ]
    }
   ],
   "source": [
    "X_train = create_features(df_train)\n",
    "y_train = df_train.loc[:, \"SalePrice\"]\n",
    "\n",
    "cleaned_scores = score_model(X_train,y_train)\n",
    "print(f\"After data cleaning score: {cleaned_scores:.5f} RMSLE. \\nBaseline score is {baseline_score:.5f} RMSLE\")"
   ]
  },
  {
   "cell_type": "markdown",
   "id": "26642a38",
   "metadata": {},
   "source": [
    "4. Hyperparameter Tuning with XGBoost parameters\n",
    "- parameters that need to consider include: n_estimators, early_stopping_rounds, learning_rate, n_jobs"
   ]
  },
  {
   "cell_type": "code",
   "execution_count": 39,
   "id": "ac623ab0",
   "metadata": {},
   "outputs": [
    {
     "data": {
      "text/plain": [
       "0.28345972157486554"
      ]
     },
     "execution_count": 39,
     "metadata": {},
     "output_type": "execute_result"
    }
   ],
   "source": [
    "# 4. hyperparameter\n",
    "X_train = create_features(df_train)\n",
    "y_train = df_train.loc[:, \"SalePrice\"]\n",
    "\n",
    "xgb_params = dict(\n",
    "    max_depth=5,           # maximum depth of each tree - try 2 to 10\n",
    "    learning_rate=0.02,    # effect of each tree - try 0.0001 to 0.1\n",
    "    n_estimators=1000,     # number of trees (that is, boosting rounds) - try 1000 to 8000\n",
    "    min_child_weight=1,    # minimum number of houses in a leaf - try 1 to 10\n",
    "    colsample_bytree=0.7,  # fraction of features (columns) per tree - try 0.2 to 1.0\n",
    "    subsample=0.7,         # fraction of instances (rows) per tree - try 0.2 to 1.0\n",
    "    reg_alpha=0.5,         # L1 regularization (like LASSO) - try 0.0 to 10.0\n",
    "    reg_lambda=1.0,        # L2 regularization (like Ridge) - try 0.0 to 10.0\n",
    "    num_parallel_tree=1)   # set > 1 for boosted random forests\n",
    "\n",
    "xgb = XGBRegressor(**xgb_params)\n",
    "score_model(X_train, y_train, xgb)"
   ]
  },
  {
   "cell_type": "markdown",
   "id": "2accb611",
   "metadata": {},
   "source": [
    "5. Train model\n",
    "- train the training data with XGBoost\n",
    "- make predictions from the test dataset"
   ]
  },
  {
   "cell_type": "code",
   "execution_count": 40,
   "id": "bdfcf51b",
   "metadata": {
    "scrolled": true
   },
   "outputs": [],
   "source": [
    "# 5. train the models\n",
    "\n",
    "X_train, X_test = create_features(df_train, df_test)\n",
    "y_train = df_train.loc[:, \"SalePrice\"]\n",
    "\n",
    "xgb = XGBRegressor(**xgb_params)\n",
    "xgb.fit(X_train, np.log(y_train))\n",
    "predictions = np.exp(xgb.predict(X_test))\n",
    "\n",
    "output = pd.DataFrame({'Id':X_test.index, 'EstSalePrice':predictions})\n",
    "output.to_csv('house_price_submission.csv', index=False)"
   ]
  },
  {
   "cell_type": "code",
   "execution_count": null,
   "id": "ac70cc93",
   "metadata": {},
   "outputs": [],
   "source": []
  },
  {
   "cell_type": "code",
   "execution_count": null,
   "id": "b485079d",
   "metadata": {},
   "outputs": [],
   "source": []
  },
  {
   "cell_type": "code",
   "execution_count": null,
   "id": "82acb1ca",
   "metadata": {},
   "outputs": [],
   "source": []
  },
  {
   "cell_type": "code",
   "execution_count": null,
   "id": "c8c4239d",
   "metadata": {},
   "outputs": [],
   "source": []
  },
  {
   "cell_type": "code",
   "execution_count": null,
   "id": "5c042857",
   "metadata": {},
   "outputs": [],
   "source": []
  }
 ],
 "metadata": {
  "kernelspec": {
   "display_name": "Python 3",
   "language": "python",
   "name": "python3"
  },
  "language_info": {
   "codemirror_mode": {
    "name": "ipython",
    "version": 3
   },
   "file_extension": ".py",
   "mimetype": "text/x-python",
   "name": "python",
   "nbconvert_exporter": "python",
   "pygments_lexer": "ipython3",
   "version": "3.8.8"
  }
 },
 "nbformat": 4,
 "nbformat_minor": 5
}
